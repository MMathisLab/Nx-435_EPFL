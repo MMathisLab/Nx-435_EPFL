{
 "cells": [
  {
   "cell_type": "code",
   "execution_count": 3,
   "metadata": {},
   "outputs": [],
   "source": [
    "import serial\n",
    "import numpy as np\n",
    "import matplotlib.pyplot as plt\n",
    "import time\n",
    "from scipy import interpolate\n",
    "# %matplotlib notebook\n",
    "\n",
    "%matplotlib tk\n",
    "\n",
    "def read_arduino(ser,inputBufferSize):\n",
    "#    data = ser.readline(inputBufferSize)\n",
    "    data = ser.read(inputBufferSize)\n",
    "    out =[(int(data[i])) for i in range(0,len(data))]\n",
    "    return out\n",
    "\n",
    "def process_data(data):\n",
    "    data_in = np.array(data)\n",
    "    result = []\n",
    "    i = 1\n",
    "    while i < len(data_in)-1:\n",
    "        if data_in[i] > 127:\n",
    "            # Found beginning of frame\n",
    "            # Extract one sample from 2 bytes\n",
    "            intout = (np.bitwise_and(data_in[i],127))*128\n",
    "            i = i + 1\n",
    "            intout = intout + data_in[i]\n",
    "            result = np.append(result,intout)\n",
    "        i=i+1\n",
    "    return result"
   ]
  },
  {
   "cell_type": "code",
   "execution_count": 4,
   "metadata": {},
   "outputs": [
    {
     "name": "stdout",
     "output_type": "stream",
     "text": [
      "COM3: USB Serial Port (COM3) [USB VID:PID=0403:6015 SER=DM89OND5A]\n"
     ]
    }
   ],
   "source": [
    "# List available ports\n",
    "import serial.tools.list_ports\n",
    "ports = serial.tools.list_ports.comports()\n",
    "\n",
    "for port, desc, hwid in sorted(ports):\n",
    "        print(\"{}: {} [{}]\".format(port, desc, hwid))"
   ]
  },
  {
   "cell_type": "code",
   "execution_count": 5,
   "metadata": {},
   "outputs": [],
   "source": [
    "# Read example data\n",
    "baudrate = 230400\n",
    "cport = 'COM3'  # set the correct port before you run it\n",
    "#cport = '/dev/tty.usbmodem141101'  # set the correct port before run it\n",
    "ser = serial.Serial(port=cport, baudrate=baudrate)    \n",
    "# take example data\n",
    "inputBufferSize = 10000 # 20000 = 1 second\n",
    "ser.timeout = inputBufferSize/20000.0  # set read timeout"
   ]
  },
  {
   "cell_type": "code",
   "execution_count": 6,
   "metadata": {},
   "outputs": [],
   "source": [
    "# Visualize data to inspect\n",
    "data = read_arduino(ser,inputBufferSize)\n",
    "data_plot = process_data(data)\n",
    "plt.figure()\n",
    "plt.plot(data_plot)\n",
    "plt.show()"
   ]
  },
  {
   "cell_type": "code",
   "execution_count": 7,
   "metadata": {},
   "outputs": [],
   "source": [
    "# Define stream buffer size\n",
    "inputBufferSize = 10000 # keep betweein 2000-20000\n",
    "ser.timeout = inputBufferSize/20000.0  # set read timeout, 20000 is one second\n",
    "# ser.set_buffer_size(rx_size = inputBufferSize)\n",
    "\n",
    "# Define steam length\n",
    "total_time = 5.0; # time in seconds [[1 s = 20000 buffer size]]\n",
    "max_time = 10.0; # time plotted in window [s]\n",
    "N_loops = 20000.0/inputBufferSize*total_time"
   ]
  },
  {
   "cell_type": "code",
   "execution_count": 13,
   "metadata": {},
   "outputs": [],
   "source": [
    "# Run stream\n",
    "\n",
    "from collections import deque\n",
    "\n",
    "T_acquire = inputBufferSize/20000.0    # length of time that data is acquired for \n",
    "N_max_loops = max_time/T_acquire    # total number of loops to cover desire time window\n",
    "\n",
    "def running_mean(data, window_size):\n",
    "    \"\"\"Compute the running mean over a given window size.\"\"\"\n",
    "    cumsum = np.cumsum(np.insert(data, 0, 0))\n",
    "    return (cumsum[window_size:] - cumsum[:-window_size]) / window_size\n",
    "\n",
    "# Define the size of the circular buffer\n",
    "buffer_size = 1000 #4000\n",
    "\n",
    "# Initialize the circular buffer using a deque\n",
    "data_buffer = deque(maxlen=buffer_size)\n",
    "\n",
    "fig, ax = plt.subplots()\n",
    "ax.set_ylim(-250,250)\n",
    "\n",
    "count = 0\n",
    "running_mean_all = []\n",
    "data_all = []\n",
    "for k in range(int(N_loops)):\n",
    "    data = read_arduino(ser, inputBufferSize)\n",
    "    data_temp = process_data(data)\n",
    "    data_preproc = np.abs(data_temp - 500)\n",
    "    \n",
    "    running_mean_all.append(running_mean(data_preproc, 500))\n",
    "\n",
    "    # Append the elements of data_temp to the circular buffer\n",
    "    for item in data_preproc:\n",
    "        data_buffer.append(item)\n",
    "\n",
    "    # data_all.append(data_buffer.copy())\n",
    "    data_all.append(data_preproc.copy())\n",
    "\n",
    "    if k <= N_max_loops:\n",
    "        if k==0:\n",
    "            data_plot = data_temp\n",
    "        else:\n",
    "            data_plot = np.append(data_temp,data_plot)\n",
    "        t = (min(k+1,N_max_loops))*inputBufferSize/20000.0*np.linspace(0,1,len(data_plot))\n",
    "    else:\n",
    "        data_plot = np.roll(data_plot,len(data_temp))\n",
    "        data_plot[0:len(data_temp)] = data_temp\n",
    "    t = (min(k+1,N_max_loops))*inputBufferSize/20000.0*np.linspace(0,1,len(data_plot))\n",
    "\n",
    "    if k == 0:\n",
    "        # line, = ax.plot(t[:-1], np.array(t)[:-1])\n",
    "        # line, = ax.plot(t, np.array(t))\n",
    "        line, = ax.plot(np.arange(0,buffer_size), np.arange(0,buffer_size))\n",
    "    \n",
    "    \n",
    "    # ax.plot(t,data_plot)\n",
    "    line.set_ydata(data_buffer)\n",
    "    fig.canvas.draw()\n",
    "    fig.canvas.flush_events()\n"
   ]
  },
  {
   "cell_type": "code",
   "execution_count": 14,
   "metadata": {},
   "outputs": [
    {
     "name": "stdout",
     "output_type": "stream",
     "text": [
      "One standard deviation above the mean is 21.478250502236396\n",
      "Try this number as the threshold in pong_stream.py!\n"
     ]
    }
   ],
   "source": [
    "# Plot running mean activity and STD of running mean\n",
    "\n",
    "data_h = np.hstack(data_all)\n",
    "run_mean_h = np.hstack(running_mean_all)\n",
    "\n",
    "f = interpolate.interp1d(np.arange(len(run_mean_h)),run_mean_h)\n",
    "x_new = np.linspace(0,len(run_mean_h)-1,len(data_h))\n",
    "run_mean_interp = f(x_new)\n",
    "\n",
    "rmSTD = np.mean(run_mean_h)+np.std(run_mean_h)\n",
    "\n",
    "plt.figure()\n",
    "plt.plot(data_h,alpha=0.2, label='Raw_data')\n",
    "plt.plot(run_mean_interp, label='Running_mean')\n",
    "plt.axhline(rmSTD,c='k',linestyle='--', label='Standard_Dev')\n",
    "plt.legend()\n",
    "# plt.show()\n",
    "\n",
    "print('One standard deviation above the mean is ' + str(rmSTD))\n",
    "print('Try this number as the threshold in pong_stream.py!')"
   ]
  },
  {
   "cell_type": "code",
   "execution_count": null,
   "metadata": {},
   "outputs": [],
   "source": []
  }
 ],
 "metadata": {
  "kernelspec": {
   "display_name": "pong_emg",
   "language": "python",
   "name": "python3"
  },
  "language_info": {
   "codemirror_mode": {
    "name": "ipython",
    "version": 3
   },
   "file_extension": ".py",
   "mimetype": "text/x-python",
   "name": "python",
   "nbconvert_exporter": "python",
   "pygments_lexer": "ipython3",
   "version": "3.9.0"
  }
 },
 "nbformat": 4,
 "nbformat_minor": 2
}
